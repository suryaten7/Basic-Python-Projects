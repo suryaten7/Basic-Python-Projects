{
  "nbformat": 4,
  "nbformat_minor": 0,
  "metadata": {
    "colab": {
      "name": "TF2.0 Autoregressive Model.ipynb",
      "provenance": [],
      "collapsed_sections": []
    },
    "kernelspec": {
      "name": "python3",
      "display_name": "Python 3"
    },
    "accelerator": "GPU"
  },
  "cells": [
    {
      "cell_type": "markdown",
      "metadata": {
        "id": "Z3QZhH4UzqlX",
        "colab_type": "text"
      },
      "source": [
        "#sine wave without noise\n",
        "if you want use wave with use noise remove the # from series"
      ]
    },
    {
      "cell_type": "code",
      "metadata": {
        "id": "WJykK-B_rnbw",
        "colab_type": "code",
        "colab": {
          "base_uri": "https://localhost:8080/",
          "height": 34
        },
        "outputId": "c5fdeaea-cadb-49b8-e50c-051064c0e56c"
      },
      "source": [
        "import tensorflow as tf\n",
        "print(tf.__version__)"
      ],
      "execution_count": 1,
      "outputs": [
        {
          "output_type": "stream",
          "text": [
            "2.3.0\n"
          ],
          "name": "stdout"
        }
      ]
    },
    {
      "cell_type": "code",
      "metadata": {
        "id": "DkR-FgUGrt3f",
        "colab_type": "code",
        "colab": {}
      },
      "source": [
        "from tensorflow.keras.layers import Input, Dense\n",
        "from tensorflow.keras.models import Model\n",
        "from tensorflow.keras.optimizers import SGD, Adam\n",
        "\n",
        "import numpy as np\n",
        "import pandas as pd\n",
        "import matplotlib.pyplot as plt"
      ],
      "execution_count": 2,
      "outputs": []
    },
    {
      "cell_type": "code",
      "metadata": {
        "id": "NBgpKjxXsBZn",
        "colab_type": "code",
        "colab": {
          "base_uri": "https://localhost:8080/",
          "height": 265
        },
        "outputId": "32833316-b819-4cdf-c3ae-eb12d99fe7ad"
      },
      "source": [
        "# make the original data\n",
        "series = np.sin(0.1*np.arange(200)) #+ np.random.randn(200)*0.1\n",
        "\n",
        "# plot it\n",
        "plt.plot(series)\n",
        "plt.show()"
      ],
      "execution_count": 3,
      "outputs": [
        {
          "output_type": "display_data",
          "data": {
            "image/png": "[encoded data removed]",
            "text/plain": [
              "<Figure size 432x288 with 1 Axes>"
            ]
          },
          "metadata": {
            "tags": [],
            "needs_background": "light"
          }
        }
      ]
    },
    {
      "cell_type": "code",
      "metadata": {
        "id": "qnR4MAM9sGF1",
        "colab_type": "code",
        "colab": {
          "base_uri": "https://localhost:8080/",
          "height": 34
        },
        "outputId": "b06f1fb6-8a9c-450b-fdad-27542777974c"
      },
      "source": [
        "### build the dataset\n",
        "# let's see if we can use T past values to predict the next value\n",
        "T = 10\n",
        "X = []\n",
        "Y = []\n",
        "for t in range(len(series) - T):\n",
        "  x = series[t:t+T]\n",
        "  X.append(x)\n",
        "  y = series[t+T]\n",
        "  Y.append(y)\n",
        "\n",
        "X = np.array(X).reshape(-1, T)\n",
        "Y = np.array(Y)\n",
        "N = len(X)\n",
        "print(\"X.shape\", X.shape, \"Y.shape\", Y.shape)"
      ],
      "execution_count": 4,
      "outputs": [
        {
          "output_type": "stream",
          "text": [
            "X.shape (190, 10) Y.shape (190,)\n"
          ],
          "name": "stdout"
        }
      ]
    },
    {
      "cell_type": "code",
      "metadata": {
        "id": "EESqey3TsODi",
        "colab_type": "code",
        "colab": {
          "base_uri": "https://localhost:8080/",
          "height": 1000
        },
        "outputId": "0d5fd6e2-885d-4b6e-bcf1-88aa32ee6b70"
      },
      "source": [
        "### try autoregressive linear model\n",
        "i = Input(shape=(T,))\n",
        "x = Dense(1)(i)\n",
        "model = Model(i, x)\n",
        "model.compile(\n",
        "  loss='mse',\n",
        "  optimizer=Adam(lr=0.1),\n",
        ")\n",
        "\n",
        "# train the RNN\n",
        "r = model.fit(\n",
        "  X[:-N//2], Y[:-N//2],\n",
        "  epochs=80,\n",
        "  validation_data=(X[-N//2:], Y[-N//2:]),\n",
        ")"
      ],
      "execution_count": 5,
      "outputs": [
        {
          "output_type": "stream",
          "text": [
            "Epoch 1/80\n",
            "3/3 [==============================] - 0s 67ms/step - loss: 0.6181 - val_loss: 0.5000\n",
            "Epoch 2/80\n",
            "3/3 [==============================] - 0s 6ms/step - loss: 0.5324 - val_loss: 0.2079\n",
            "Epoch 3/80\n",
            "3/3 [==============================] - 0s 7ms/step - loss: 0.1312 - val_loss: 0.1475\n",
            "Epoch 4/80\n",
            "3/3 [==============================] - 0s 7ms/step - loss: 0.2040 - val_loss: 0.0769\n",
            "Epoch 5/80\n",
            "3/3 [==============================] - 0s 6ms/step - loss: 0.0487 - val_loss: 0.0436\n",
            "Epoch 6/80\n",
            "3/3 [==============================] - 0s 6ms/step - loss: 0.0616 - val_loss: 0.0727\n",
            "Epoch 7/80\n",
            "3/3 [==============================] - 0s 6ms/step - loss: 0.0492 - val_loss: 0.0125\n",
            "Epoch 8/80\n",
            "3/3 [==============================] - 0s 6ms/step - loss: 0.0299 - val_loss: 0.0792\n",
            "Epoch 9/80\n",
            "3/3 [==============================] - 0s 7ms/step - loss: 0.0516 - val_loss: 0.0256\n",
            "Epoch 10/80\n",
            "3/3 [==============================] - 0s 6ms/step - loss: 0.0162 - val_loss: 0.0252\n",
            "Epoch 11/80\n",
            "3/3 [==============================] - 0s 7ms/step - loss: 0.0285 - val_loss: 0.0116\n",
            "Epoch 12/80\n",
            "3/3 [==============================] - 0s 7ms/step - loss: 0.0062 - val_loss: 0.0055\n",
            "Epoch 13/80\n",
            "3/3 [==============================] - 0s 6ms/step - loss: 0.0108 - val_loss: 0.0044\n",
            "Epoch 14/80\n",
            "3/3 [==============================] - 0s 7ms/step - loss: 0.0031 - val_loss: 0.0029\n",
            "Epoch 15/80\n",
            "3/3 [==============================] - 0s 6ms/step - loss: 0.0048 - val_loss: 0.0040\n",
            "Epoch 16/80\n",
            "3/3 [==============================] - 0s 7ms/step - loss: 0.0025 - val_loss: 0.0021\n",
            "Epoch 17/80\n",
            "3/3 [==============================] - 0s 6ms/step - loss: 0.0038 - val_loss: 0.0035\n",
            "Epoch 18/80\n",
            "3/3 [==============================] - 0s 6ms/step - loss: 0.0021 - val_loss: 0.0015\n",
            "Epoch 19/80\n",
            "3/3 [==============================] - 0s 7ms/step - loss: 0.0024 - val_loss: 0.0016\n",
            "Epoch 20/80\n",
            "3/3 [==============================] - 0s 6ms/step - loss: 7.5939e-04 - val_loss: 6.8777e-04\n",
            "Epoch 21/80\n",
            "3/3 [==============================] - 0s 7ms/step - loss: 0.0011 - val_loss: 3.8793e-04\n",
            "Epoch 22/80\n",
            "3/3 [==============================] - 0s 7ms/step - loss: 2.5543e-04 - val_loss: 5.4444e-04\n",
            "Epoch 23/80\n",
            "3/3 [==============================] - 0s 6ms/step - loss: 6.2554e-04 - val_loss: 2.4921e-04\n",
            "Epoch 24/80\n",
            "3/3 [==============================] - 0s 6ms/step - loss: 2.6136e-04 - val_loss: 6.0106e-04\n",
            "Epoch 25/80\n",
            "3/3 [==============================] - 0s 6ms/step - loss: 4.3288e-04 - val_loss: 1.3279e-04\n",
            "Epoch 26/80\n",
            "3/3 [==============================] - 0s 6ms/step - loss: 1.4333e-04 - val_loss: 1.7814e-04\n",
            "Epoch 27/80\n",
            "3/3 [==============================] - 0s 7ms/step - loss: 1.2435e-04 - val_loss: 6.3742e-06\n",
            "Epoch 28/80\n",
            "3/3 [==============================] - 0s 10ms/step - loss: 5.9744e-05 - val_loss: 7.7110e-05\n",
            "Epoch 29/80\n",
            "3/3 [==============================] - 0s 6ms/step - loss: 5.6693e-05 - val_loss: 5.7269e-05\n",
            "Epoch 30/80\n",
            "3/3 [==============================] - 0s 7ms/step - loss: 6.3253e-05 - val_loss: 3.8263e-05\n",
            "Epoch 31/80\n",
            "3/3 [==============================] - 0s 6ms/step - loss: 2.8823e-05 - val_loss: 4.4574e-05\n",
            "Epoch 32/80\n",
            "3/3 [==============================] - 0s 6ms/step - loss: 3.8899e-05 - val_loss: 5.9050e-06\n",
            "Epoch 33/80\n",
            "3/3 [==============================] - 0s 6ms/step - loss: 1.4822e-05 - val_loss: 1.9687e-05\n",
            "Epoch 34/80\n",
            "3/3 [==============================] - 0s 6ms/step - loss: 1.1877e-05 - val_loss: 5.2319e-06\n",
            "Epoch 35/80\n",
            "3/3 [==============================] - 0s 6ms/step - loss: 1.1560e-05 - val_loss: 5.7285e-06\n",
            "Epoch 36/80\n",
            "3/3 [==============================] - 0s 8ms/step - loss: 5.5687e-06 - val_loss: 1.0085e-05\n",
            "Epoch 37/80\n",
            "3/3 [==============================] - 0s 7ms/step - loss: 8.8879e-06 - val_loss: 2.5197e-06\n",
            "Epoch 38/80\n",
            "3/3 [==============================] - 0s 7ms/step - loss: 3.9836e-06 - val_loss: 5.9591e-06\n",
            "Epoch 39/80\n",
            "3/3 [==============================] - 0s 6ms/step - loss: 2.4283e-06 - val_loss: 1.4951e-06\n",
            "Epoch 40/80\n",
            "3/3 [==============================] - 0s 6ms/step - loss: 2.0685e-06 - val_loss: 3.8465e-07\n",
            "Epoch 41/80\n",
            "3/3 [==============================] - 0s 6ms/step - loss: 7.5323e-07 - val_loss: 1.3115e-06\n",
            "Epoch 42/80\n",
            "3/3 [==============================] - 0s 6ms/step - loss: 1.0200e-06 - val_loss: 8.3009e-07\n",
            "Epoch 43/80\n",
            "3/3 [==============================] - 0s 6ms/step - loss: 9.7667e-07 - val_loss: 4.4488e-07\n",
            "Epoch 44/80\n",
            "3/3 [==============================] - 0s 6ms/step - loss: 3.8474e-07 - val_loss: 5.7999e-07\n",
            "Epoch 45/80\n",
            "3/3 [==============================] - 0s 9ms/step - loss: 3.2811e-07 - val_loss: 5.2794e-08\n",
            "Epoch 46/80\n",
            "3/3 [==============================] - 0s 6ms/step - loss: 1.8717e-07 - val_loss: 1.3769e-07\n",
            "Epoch 47/80\n",
            "3/3 [==============================] - 0s 7ms/step - loss: 1.0227e-07 - val_loss: 1.9897e-07\n",
            "Epoch 48/80\n",
            "3/3 [==============================] - 0s 7ms/step - loss: 1.8933e-07 - val_loss: 6.7836e-08\n",
            "Epoch 49/80\n",
            "3/3 [==============================] - 0s 6ms/step - loss: 1.1881e-07 - val_loss: 7.6809e-08\n",
            "Epoch 50/80\n",
            "3/3 [==============================] - 0s 8ms/step - loss: 4.2878e-08 - val_loss: 7.9406e-08\n",
            "Epoch 51/80\n",
            "3/3 [==============================] - 0s 6ms/step - loss: 4.7700e-08 - val_loss: 2.2437e-09\n",
            "Epoch 52/80\n",
            "3/3 [==============================] - 0s 7ms/step - loss: 3.0256e-08 - val_loss: 3.5244e-08\n",
            "Epoch 53/80\n",
            "3/3 [==============================] - 0s 6ms/step - loss: 2.2779e-08 - val_loss: 3.4229e-08\n",
            "Epoch 54/80\n",
            "3/3 [==============================] - 0s 7ms/step - loss: 3.0538e-08 - val_loss: 1.3244e-08\n",
            "Epoch 55/80\n",
            "3/3 [==============================] - 0s 7ms/step - loss: 1.2333e-08 - val_loss: 5.3065e-09\n",
            "Epoch 56/80\n",
            "3/3 [==============================] - 0s 7ms/step - loss: 3.4837e-09 - val_loss: 1.0285e-08\n",
            "Epoch 57/80\n",
            "3/3 [==============================] - 0s 7ms/step - loss: 5.4154e-09 - val_loss: 2.3169e-09\n",
            "Epoch 58/80\n",
            "3/3 [==============================] - 0s 6ms/step - loss: 4.6441e-09 - val_loss: 2.9651e-09\n",
            "Epoch 59/80\n",
            "3/3 [==============================] - 0s 6ms/step - loss: 3.6019e-09 - val_loss: 3.2873e-09\n",
            "Epoch 60/80\n",
            "3/3 [==============================] - 0s 7ms/step - loss: 3.0880e-09 - val_loss: 2.0325e-09\n",
            "Epoch 61/80\n",
            "3/3 [==============================] - 0s 7ms/step - loss: 1.6123e-09 - val_loss: 4.4009e-10\n",
            "Epoch 62/80\n",
            "3/3 [==============================] - 0s 7ms/step - loss: 9.1077e-10 - val_loss: 1.1242e-09\n",
            "Epoch 63/80\n",
            "3/3 [==============================] - 0s 7ms/step - loss: 9.1110e-10 - val_loss: 1.2720e-09\n",
            "Epoch 64/80\n",
            "3/3 [==============================] - 0s 6ms/step - loss: 7.9750e-10 - val_loss: 7.8834e-10\n",
            "Epoch 65/80\n",
            "3/3 [==============================] - 0s 7ms/step - loss: 9.2001e-10 - val_loss: 3.0040e-10\n",
            "Epoch 66/80\n",
            "3/3 [==============================] - 0s 10ms/step - loss: 2.9644e-10 - val_loss: 1.9584e-10\n",
            "Epoch 67/80\n",
            "3/3 [==============================] - 0s 7ms/step - loss: 1.6202e-10 - val_loss: 5.9536e-10\n",
            "Epoch 68/80\n",
            "3/3 [==============================] - 0s 8ms/step - loss: 2.9168e-10 - val_loss: 1.4611e-10\n",
            "Epoch 69/80\n",
            "3/3 [==============================] - 0s 8ms/step - loss: 2.3744e-10 - val_loss: 8.5163e-11\n",
            "Epoch 70/80\n",
            "3/3 [==============================] - 0s 8ms/step - loss: 1.2251e-10 - val_loss: 9.6514e-11\n",
            "Epoch 71/80\n",
            "3/3 [==============================] - 0s 8ms/step - loss: 9.4873e-11 - val_loss: 9.3884e-11\n",
            "Epoch 72/80\n",
            "3/3 [==============================] - 0s 8ms/step - loss: 6.4913e-11 - val_loss: 3.4285e-11\n",
            "Epoch 73/80\n",
            "3/3 [==============================] - 0s 6ms/step - loss: 7.9567e-11 - val_loss: 6.0841e-11\n",
            "Epoch 74/80\n",
            "3/3 [==============================] - 0s 6ms/step - loss: 4.1834e-11 - val_loss: 6.1734e-11\n",
            "Epoch 75/80\n",
            "3/3 [==============================] - 0s 7ms/step - loss: 3.4964e-11 - val_loss: 2.3420e-11\n",
            "Epoch 76/80\n",
            "3/3 [==============================] - 0s 6ms/step - loss: 2.5387e-11 - val_loss: 8.2566e-12\n",
            "Epoch 77/80\n",
            "3/3 [==============================] - 0s 6ms/step - loss: 1.3151e-11 - val_loss: 5.2094e-12\n",
            "Epoch 78/80\n",
            "3/3 [==============================] - 0s 6ms/step - loss: 1.2672e-11 - val_loss: 3.2103e-11\n",
            "Epoch 79/80\n",
            "3/3 [==============================] - 0s 7ms/step - loss: 1.0371e-11 - val_loss: 1.1212e-11\n",
            "Epoch 80/80\n",
            "3/3 [==============================] - 0s 6ms/step - loss: 1.0216e-11 - val_loss: 1.1874e-12\n"
          ],
          "name": "stdout"
        }
      ]
    },
    {
      "cell_type": "code",
      "metadata": {
        "id": "2BA0rLqrsw7i",
        "colab_type": "code",
        "colab": {
          "base_uri": "https://localhost:8080/",
          "height": 282
        },
        "outputId": "c88f9147-c67e-4465-8beb-31d395da6ea5"
      },
      "source": [
        "# Plot loss per iteration\n",
        "import matplotlib.pyplot as plt\n",
        "plt.plot(r.history['loss'], label='loss')\n",
        "plt.plot(r.history['val_loss'], label='val_loss')\n",
        "plt.legend()"
      ],
      "execution_count": 6,
      "outputs": [
        {
          "output_type": "execute_result",
          "data": {
            "text/plain": [
              "<matplotlib.legend.Legend at 0x7ff3d2436b38>"
            ]
          },
          "metadata": {
            "tags": []
          },
          "execution_count": 6
        },
        {
          "output_type": "display_data",
          "data": {
            "image/png": "[encoded data removed]",
            "text/plain": [
              "<Figure size 432x288 with 1 Axes>"
            ]
          },
          "metadata": {
            "tags": [],
            "needs_background": "light"
          }
        }
      ]
    },
    {
      "cell_type": "code",
      "metadata": {
        "id": "DyyEx1Gx4Q7t",
        "colab_type": "code",
        "colab": {}
      },
      "source": [
        "# \"Wrong\" forecast using true targets\n",
        "\n",
        "validation_target = Y[-N//2:]\n",
        "validation_predictions = []\n",
        "\n",
        "# index of first validation input\n",
        "i = -N//2\n",
        "\n",
        "while len(validation_predictions) < len(validation_target):\n",
        "  p = model.predict(X[i].reshape(1, -1))[0,0] # 1x1 array -> scalar\n",
        "  i += 1\n",
        "  \n",
        "  # update the predictions list\n",
        "  validation_predictions.append(p)"
      ],
      "execution_count": 7,
      "outputs": []
    },
    {
      "cell_type": "code",
      "metadata": {
        "id": "hb18Dr0O4ec9",
        "colab_type": "code",
        "colab": {
          "base_uri": "https://localhost:8080/",
          "height": 282
        },
        "outputId": "9a824add-df63-4e5b-f323-710ab5fc44fc"
      },
      "source": [
        "plt.plot(validation_target, label='forecast target')\n",
        "plt.plot(validation_predictions, label='forecast prediction')\n",
        "plt.legend()"
      ],
      "execution_count": 8,
      "outputs": [
        {
          "output_type": "execute_result",
          "data": {
            "text/plain": [
              "<matplotlib.legend.Legend at 0x7ff3c803a908>"
            ]
          },
          "metadata": {
            "tags": []
          },
          "execution_count": 8
        },
        {
          "output_type": "display_data",
          "data": {
            "image/png": "[encoded data removed]",
            "text/plain": [
              "<Figure size 432x288 with 1 Axes>"
            ]
          },
          "metadata": {
            "tags": [],
            "needs_background": "light"
          }
        }
      ]
    },
    {
      "cell_type": "code",
      "metadata": {
        "id": "j9Idhr4ss3g_",
        "colab_type": "code",
        "colab": {}
      },
      "source": [
        "# Forecast future values (use only self-predictions for making future predictions)\n",
        "\n",
        "validation_target = Y[-N//2:]\n",
        "validation_predictions = []\n",
        "\n",
        "# first validation input\n",
        "last_x = X[-N//2] # 1-D array of length T\n",
        "\n",
        "while len(validation_predictions) < len(validation_target):\n",
        "  p = model.predict(last_x.reshape(1, -1))[0,0] # 1x1 array -> scalar\n",
        "  \n",
        "  # update the predictions list\n",
        "  validation_predictions.append(p)\n",
        "  \n",
        "  # make the new input\n",
        "  last_x = np.roll(last_x, -1)\n",
        "  last_x[-1] = p"
      ],
      "execution_count": 9,
      "outputs": []
    },
    {
      "cell_type": "code",
      "metadata": {
        "id": "i0QEZgwV3WPI",
        "colab_type": "code",
        "colab": {
          "base_uri": "https://localhost:8080/",
          "height": 282
        },
        "outputId": "dcb3480b-f13a-4cf3-e967-3a486d1904e6"
      },
      "source": [
        "plt.plot(validation_target, label='forecast target')\n",
        "plt.plot(validation_predictions, label='forecast prediction')\n",
        "plt.legend()"
      ],
      "execution_count": 10,
      "outputs": [
        {
          "output_type": "execute_result",
          "data": {
            "text/plain": [
              "<matplotlib.legend.Legend at 0x7ff3c7ed2908>"
            ]
          },
          "metadata": {
            "tags": []
          },
          "execution_count": 10
        },
        {
          "output_type": "display_data",
          "data": {
            "image/png": "[encoded data removed]",
            "text/plain": [
              "<Figure size 432x288 with 1 Axes>"
            ]
          },
          "metadata": {
            "tags": [],
            "needs_background": "light"
          }
        }
      ]
    },
    {
      "cell_type": "code",
      "metadata": {
        "id": "XqUBtsCEzhwi",
        "colab_type": "code",
        "colab": {}
      },
      "source": [
        ""
      ],
      "execution_count": null,
      "outputs": []
    }
  ]
}