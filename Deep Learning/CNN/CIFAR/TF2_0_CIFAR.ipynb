{
  "nbformat": 4,
  "nbformat_minor": 0,
  "metadata": {
    "colab": {
      "name": "TF2.0 CIFAR.ipynb",
      "provenance": [],
      "collapsed_sections": []
    },
    "kernelspec": {
      "name": "python3",
      "display_name": "Python 3"
    },
    "accelerator": "GPU"
  },
  "cells": [
    {
      "cell_type": "code",
      "metadata": {
        "id": "pmNpq8GML1jW",
        "colab_type": "code",
        "colab": {
          "base_uri": "https://localhost:8080/",
          "height": 34
        },
        "outputId": "4316b288-79e0-4baa-fddd-2e98eddfebfe"
      },
      "source": [
        "import tensorflow as tf\n",
        "print(tf.__version__)"
      ],
      "execution_count": 1,
      "outputs": [
        {
          "output_type": "stream",
          "text": [
            "2.3.0\n"
          ],
          "name": "stdout"
        }
      ]
    },
    {
      "cell_type": "code",
      "metadata": {
        "id": "cBJh6ib6MEIW",
        "colab_type": "code",
        "colab": {}
      },
      "source": [
        "# additional imports\n",
        "\n",
        "import numpy as np\n",
        "import matplotlib.pyplot as plt\n",
        "from tensorflow.keras.layers import Input, Conv2D, Dense, Flatten, Dropout, GlobalMaxPooling2D\n",
        "from tensorflow.keras.models import Model"
      ],
      "execution_count": 2,
      "outputs": []
    },
    {
      "cell_type": "code",
      "metadata": {
        "id": "H_EGZv1TL4S_",
        "colab_type": "code",
        "colab": {
          "base_uri": "https://localhost:8080/",
          "height": 85
        },
        "outputId": "d1570a87-c54c-4017-bfd2-30e152f8b7cb"
      },
      "source": [
        "# Load in the data\n",
        "cifar10 = tf.keras.datasets.cifar10\n",
        "\n",
        "(x_train, y_train), (x_test, y_test) = cifar10.load_data()\n",
        "x_train, x_test = x_train / 255.0, x_test / 255.0\n",
        "y_train, y_test = y_train.flatten(), y_test.flatten()\n",
        "print(\"x_train.shape:\", x_train.shape)\n",
        "print(\"y_train.shape\", y_train.shape)"
      ],
      "execution_count": 3,
      "outputs": [
        {
          "output_type": "stream",
          "text": [
            "Downloading data from https://www.cs.toronto.edu/~kriz/cifar-10-python.tar.gz\n",
            "170500096/170498071 [==============================] - 4s 0us/step\n",
            "x_train.shape: (50000, 32, 32, 3)\n",
            "y_train.shape (50000,)\n"
          ],
          "name": "stdout"
        }
      ]
    },
    {
      "cell_type": "code",
      "metadata": {
        "id": "1Wr15bYpMwbB",
        "colab_type": "code",
        "colab": {
          "base_uri": "https://localhost:8080/",
          "height": 34
        },
        "outputId": "b6c1a55b-913e-4dc9-ef4e-1f926a8d57ef"
      },
      "source": [
        "# number of classes\n",
        "K = len(set(y_train))\n",
        "print(\"number of classes:\", K)"
      ],
      "execution_count": 4,
      "outputs": [
        {
          "output_type": "stream",
          "text": [
            "number of classes: 10\n"
          ],
          "name": "stdout"
        }
      ]
    },
    {
      "cell_type": "code",
      "metadata": {
        "id": "Mmo66uQoMA1Q",
        "colab_type": "code",
        "colab": {}
      },
      "source": [
        "# Build the model using the functional API\n",
        "i = Input(shape=x_train[0].shape)\n",
        "x = Conv2D(32, (3, 3), strides=2, activation='relu')(i)\n",
        "x = Conv2D(64, (3, 3), strides=2, activation='relu')(x)\n",
        "x = Conv2D(128, (3, 3), strides=2, activation='relu')(x)\n",
        "x = Flatten()(x)\n",
        "x = Dropout(0.5)(x)\n",
        "x = Dense(1024, activation='relu')(x)\n",
        "x = Dropout(0.2)(x)\n",
        "x = Dense(K, activation='softmax')(x)\n",
        "\n",
        "model = Model(i, x)"
      ],
      "execution_count": 5,
      "outputs": []
    },
    {
      "cell_type": "code",
      "metadata": {
        "id": "0zF9n0P7NcP-",
        "colab_type": "code",
        "colab": {
          "base_uri": "https://localhost:8080/",
          "height": 527
        },
        "outputId": "7b9b2a49-a995-490b-af8a-7fdea2aaeec3"
      },
      "source": [
        "# Compile and fit\n",
        "# Note: make sure you are using the GPU for this!\n",
        "model.compile(optimizer='adam',\n",
        "              loss='sparse_categorical_crossentropy',\n",
        "              metrics=['accuracy'])\n",
        "r = model.fit(x_train, y_train, validation_data=(x_test, y_test), epochs=15)"
      ],
      "execution_count": 6,
      "outputs": [
        {
          "output_type": "stream",
          "text": [
            "Epoch 1/15\n",
            "1563/1563 [==============================] - 6s 4ms/step - loss: 1.5840 - accuracy: 0.4185 - val_loss: 1.3294 - val_accuracy: 0.5210\n",
            "Epoch 2/15\n",
            "1563/1563 [==============================] - 5s 3ms/step - loss: 1.3003 - accuracy: 0.5319 - val_loss: 1.1964 - val_accuracy: 0.5686\n",
            "Epoch 3/15\n",
            "1563/1563 [==============================] - 5s 3ms/step - loss: 1.1615 - accuracy: 0.5860 - val_loss: 1.0858 - val_accuracy: 0.6177\n",
            "Epoch 4/15\n",
            "1563/1563 [==============================] - 5s 3ms/step - loss: 1.0647 - accuracy: 0.6215 - val_loss: 0.9877 - val_accuracy: 0.6470\n",
            "Epoch 5/15\n",
            "1563/1563 [==============================] - 5s 3ms/step - loss: 0.9868 - accuracy: 0.6481 - val_loss: 0.9797 - val_accuracy: 0.6525\n",
            "Epoch 6/15\n",
            "1563/1563 [==============================] - 6s 4ms/step - loss: 0.9258 - accuracy: 0.6682 - val_loss: 0.9317 - val_accuracy: 0.6751\n",
            "Epoch 7/15\n",
            "1563/1563 [==============================] - 6s 4ms/step - loss: 0.8761 - accuracy: 0.6877 - val_loss: 0.8630 - val_accuracy: 0.6925\n",
            "Epoch 8/15\n",
            "1563/1563 [==============================] - 5s 3ms/step - loss: 0.8323 - accuracy: 0.7031 - val_loss: 0.8569 - val_accuracy: 0.7000\n",
            "Epoch 9/15\n",
            "1563/1563 [==============================] - 5s 3ms/step - loss: 0.7897 - accuracy: 0.7195 - val_loss: 0.8528 - val_accuracy: 0.7053\n",
            "Epoch 10/15\n",
            "1563/1563 [==============================] - 5s 3ms/step - loss: 0.7598 - accuracy: 0.7295 - val_loss: 0.8419 - val_accuracy: 0.7072\n",
            "Epoch 11/15\n",
            "1563/1563 [==============================] - 5s 3ms/step - loss: 0.7243 - accuracy: 0.7434 - val_loss: 0.8266 - val_accuracy: 0.7098\n",
            "Epoch 12/15\n",
            "1563/1563 [==============================] - 5s 3ms/step - loss: 0.6983 - accuracy: 0.7511 - val_loss: 0.8557 - val_accuracy: 0.6929\n",
            "Epoch 13/15\n",
            "1563/1563 [==============================] - 5s 3ms/step - loss: 0.6720 - accuracy: 0.7621 - val_loss: 0.8240 - val_accuracy: 0.7196\n",
            "Epoch 14/15\n",
            "1563/1563 [==============================] - 5s 3ms/step - loss: 0.6475 - accuracy: 0.7677 - val_loss: 0.8199 - val_accuracy: 0.7154\n",
            "Epoch 15/15\n",
            "1563/1563 [==============================] - 5s 4ms/step - loss: 0.6244 - accuracy: 0.7772 - val_loss: 0.8284 - val_accuracy: 0.7155\n"
          ],
          "name": "stdout"
        }
      ]
    },
    {
      "cell_type": "code",
      "metadata": {
        "id": "ML37hw4iOkBm",
        "colab_type": "code",
        "colab": {
          "base_uri": "https://localhost:8080/",
          "height": 282
        },
        "outputId": "7a6b0e7d-559d-46b1-9426-1dee48dd2623"
      },
      "source": [
        "# Plot loss per iteration\n",
        "import matplotlib.pyplot as plt\n",
        "plt.plot(r.history['loss'], label='loss')\n",
        "plt.plot(r.history['val_loss'], label='val_loss')\n",
        "plt.legend()"
      ],
      "execution_count": 7,
      "outputs": [
        {
          "output_type": "execute_result",
          "data": {
            "text/plain": [
              "<matplotlib.legend.Legend at 0x7fc6df714828>"
            ]
          },
          "metadata": {
            "tags": []
          },
          "execution_count": 7
        },
        {
          "output_type": "display_data",
          "data": {
            "image/png": "[encoded data removed]",
            "text/plain": [
              "<Figure size 432x288 with 1 Axes>"
            ]
          },
          "metadata": {
            "tags": [],
            "needs_background": "light"
          }
        }
      ]
    },
    {
      "cell_type": "code",
      "metadata": {
        "id": "pemstSDIOpIb",
        "colab_type": "code",
        "colab": {
          "base_uri": "https://localhost:8080/",
          "height": 282
        },
        "outputId": "b3176920-8932-41f6-a684-85b501820b68"
      },
      "source": [
        "# Plot accuracy per iteration\n",
        "plt.plot(r.history['accuracy'], label='acc')\n",
        "plt.plot(r.history['val_accuracy'], label='val_acc')\n",
        "plt.legend()"
      ],
      "execution_count": 8,
      "outputs": [
        {
          "output_type": "execute_result",
          "data": {
            "text/plain": [
              "<matplotlib.legend.Legend at 0x7fc6df68f240>"
            ]
          },
          "metadata": {
            "tags": []
          },
          "execution_count": 8
        },
        {
          "output_type": "display_data",
          "data": {
            "image/png": "[encoded data removed]",
            "text/plain": [
              "<Figure size 432x288 with 1 Axes>"
            ]
          },
          "metadata": {
            "tags": [],
            "needs_background": "light"
          }
        }
      ]
    },
    {
      "cell_type": "code",
      "metadata": {
        "id": "2LJTd4OiO6kL",
        "colab_type": "code",
        "colab": {
          "base_uri": "https://localhost:8080/",
          "height": 187
        },
        "outputId": "8506d746-30be-4c01-a2b8-af632992b2dc"
      },
      "source": [
        "# Plot confusion matrix\n",
        "from sklearn.metrics import confusion_matrix\n",
        "\n",
        "\n",
        "\n",
        "p_test = model.predict(x_test).argmax(axis=1)\n",
        "cm = confusion_matrix(y_test, p_test)\n",
        "print(cm)\n",
        "\n"
      ],
      "execution_count": 9,
      "outputs": [
        {
          "output_type": "stream",
          "text": [
            "[[784  18  26  11  14   6  17   9  80  35]\n",
            " [ 21 825   4   7   4   2  11   1  38  87]\n",
            " [ 62   5 568  67 117  60  58  32  25   6]\n",
            " [ 29   7  52 484  93 157 101  28  26  23]\n",
            " [ 25   3  59  45 709  29  53  57  17   3]\n",
            " [ 10   4  46 169  64 584  42  58  14   9]\n",
            " [  6   6  30  54  53  24 803   7  14   3]\n",
            " [ 23   1  27  38  80  50  16 747   6  12]\n",
            " [ 52  32  10   9   5   4  11   4 854  19]\n",
            " [ 43  70   3  14   5   5  11  12  40 797]]\n"
          ],
          "name": "stdout"
        }
      ]
    },
    {
      "cell_type": "code",
      "metadata": {
        "id": "AgQqQHXNXDgw",
        "colab_type": "code",
        "colab": {}
      },
      "source": [
        "# label mapping\n",
        "labels = '''airplane\n",
        "automobile\n",
        "bird\n",
        "cat\n",
        "deer\n",
        "dog\n",
        "frog\n",
        "horse\n",
        "ship\n",
        "truck'''.split()"
      ],
      "execution_count": 10,
      "outputs": []
    },
    {
      "cell_type": "code",
      "metadata": {
        "id": "jjmW4STFO-Ny",
        "colab_type": "code",
        "colab": {
          "base_uri": "https://localhost:8080/",
          "height": 281
        },
        "outputId": "44709bb3-714b-4cbf-dddc-7fb8505992e9"
      },
      "source": [
        "# Show some misclassified examples\n",
        "# TODO: add label names\n",
        "misclassified_idx = np.where(p_test != y_test)[0]\n",
        "i = np.random.choice(misclassified_idx)\n",
        "plt.imshow(x_test[i], cmap='gray')\n",
        "plt.title(\"True label: %s Predicted: %s\" % (labels[y_test[i]], labels[p_test[i]]));"
      ],
      "execution_count": 11,
      "outputs": [
        {
          "output_type": "display_data",
          "data": {
            "image/png": "[encoded data removed]",
            "text/plain": [
              "<Figure size 432x288 with 1 Axes>"
            ]
          },
          "metadata": {
            "tags": [],
            "needs_background": "light"
          }
        }
      ]
    },
    {
      "cell_type": "code",
      "metadata": {
        "id": "_xP4Va2uYDAk",
        "colab_type": "code",
        "colab": {}
      },
      "source": [
        ""
      ],
      "execution_count": null,
      "outputs": []
    }
  ]
}